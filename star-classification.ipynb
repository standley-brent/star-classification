{
 "metadata": {
  "language_info": {
   "codemirror_mode": {
    "name": "ipython",
    "version": 3
   },
   "file_extension": ".py",
   "mimetype": "text/x-python",
   "name": "python",
   "nbconvert_exporter": "python",
   "pygments_lexer": "ipython3",
   "version": "3.7.5-final"
  },
  "orig_nbformat": 2,
  "kernelspec": {
   "name": "9b2c2bea-78c9-4395-bff6-1bc9888f2370",
   "display_name": "'Python Interactive'"
  }
 },
 "nbformat": 4,
 "nbformat_minor": 2,
 "cells": [
  {
   "cell_type": "code",
   "execution_count": 1,
   "metadata": {},
   "outputs": [],
   "source": [
    "import pandas as pd \n",
    "import numpy as np \n",
    "import requests\n",
    "from bs4 import BeautifulSoup"
   ]
  },
  {
   "cell_type": "code",
   "execution_count": 2,
   "metadata": {},
   "outputs": [],
   "source": [
    "url = \"http://www.isthe.com/chongo/tech/astro/HR-temp-mass-table-byhrclass.html#below\""
   ]
  },
  {
   "cell_type": "code",
   "execution_count": 12,
   "metadata": {},
   "outputs": [],
   "source": [
    "star_data = pd.DataFrame()\n",
    "html = pd.read_html(url)\n",
    "for i in html:\n",
    "    star_data = pd.concat([star_data, i])"
   ]
  },
  {
   "cell_type": "code",
   "execution_count": 13,
   "metadata": {},
   "outputs": [
    {
     "output_type": "execute_result",
     "data": {
      "text/plain": [
       "1242"
      ]
     },
     "metadata": {},
     "execution_count": 13
    }
   ],
   "source": [
    "len(star_data)"
   ]
  },
  {
   "cell_type": "code",
   "execution_count": 14,
   "metadata": {},
   "outputs": [
    {
     "output_type": "execute_result",
     "data": {
      "text/plain": [
       "                                                   0  \\\n",
       "0                                                NaN   \n",
       "1                                                NaN   \n",
       "2                                                NaN   \n",
       "0  <!-- google_ad_client = \"ca-pub-47247383615902...   \n",
       "0                                                NaN   \n",
       "\n",
       "                                                   1  \\\n",
       "0                                                NaN   \n",
       "1  Stellar Classification Table - sorted by HR Class   \n",
       "2  [chongo's home] [Astronomy] [Mathematics] [Pri...   \n",
       "0  NOTE: See below for credit on the data source ...   \n",
       "0                                                NaN   \n",
       "\n",
       "                                                   2  Abs MagMv  \\\n",
       "0                         custom search of this site        NaN   \n",
       "1  Stellar Classification Table - sorted by HR Class        NaN   \n",
       "2  [chongo's home] [Astronomy] [Mathematics] [Pri...        NaN   \n",
       "0                                                NaN        NaN   \n",
       "0                                                NaN        NaN   \n",
       "\n",
       "   Bolo CorrBC(Temp)  Bolo MagMbol  Color IndexB-V  LuminosityLstar/Lsun  \\\n",
       "0                NaN           NaN             NaN                   NaN   \n",
       "1                NaN           NaN             NaN                   NaN   \n",
       "2                NaN           NaN             NaN                   NaN   \n",
       "0                NaN           NaN             NaN                   NaN   \n",
       "0                NaN           NaN             NaN                   NaN   \n",
       "\n",
       "   MassMstar/Msun  RadiusRstar/Rsun Star ColorRGB 0-255 StellarType  TempK  \n",
       "0             NaN               NaN                 NaN         NaN    NaN  \n",
       "1             NaN               NaN                 NaN         NaN    NaN  \n",
       "2             NaN               NaN                 NaN         NaN    NaN  \n",
       "0             NaN               NaN                 NaN         NaN    NaN  \n",
       "0             NaN               NaN                 NaN         NaN    NaN  "
      ],
      "text/html": "<div>\n<style scoped>\n    .dataframe tbody tr th:only-of-type {\n        vertical-align: middle;\n    }\n\n    .dataframe tbody tr th {\n        vertical-align: top;\n    }\n\n    .dataframe thead th {\n        text-align: right;\n    }\n</style>\n<table border=\"1\" class=\"dataframe\">\n  <thead>\n    <tr style=\"text-align: right;\">\n      <th></th>\n      <th>0</th>\n      <th>1</th>\n      <th>2</th>\n      <th>Abs MagMv</th>\n      <th>Bolo CorrBC(Temp)</th>\n      <th>Bolo MagMbol</th>\n      <th>Color IndexB-V</th>\n      <th>LuminosityLstar/Lsun</th>\n      <th>MassMstar/Msun</th>\n      <th>RadiusRstar/Rsun</th>\n      <th>Star ColorRGB 0-255</th>\n      <th>StellarType</th>\n      <th>TempK</th>\n    </tr>\n  </thead>\n  <tbody>\n    <tr>\n      <th>0</th>\n      <td>NaN</td>\n      <td>NaN</td>\n      <td>custom search of this site</td>\n      <td>NaN</td>\n      <td>NaN</td>\n      <td>NaN</td>\n      <td>NaN</td>\n      <td>NaN</td>\n      <td>NaN</td>\n      <td>NaN</td>\n      <td>NaN</td>\n      <td>NaN</td>\n      <td>NaN</td>\n    </tr>\n    <tr>\n      <th>1</th>\n      <td>NaN</td>\n      <td>Stellar Classification Table - sorted by HR Class</td>\n      <td>Stellar Classification Table - sorted by HR Class</td>\n      <td>NaN</td>\n      <td>NaN</td>\n      <td>NaN</td>\n      <td>NaN</td>\n      <td>NaN</td>\n      <td>NaN</td>\n      <td>NaN</td>\n      <td>NaN</td>\n      <td>NaN</td>\n      <td>NaN</td>\n    </tr>\n    <tr>\n      <th>2</th>\n      <td>NaN</td>\n      <td>[chongo's home] [Astronomy] [Mathematics] [Pri...</td>\n      <td>[chongo's home] [Astronomy] [Mathematics] [Pri...</td>\n      <td>NaN</td>\n      <td>NaN</td>\n      <td>NaN</td>\n      <td>NaN</td>\n      <td>NaN</td>\n      <td>NaN</td>\n      <td>NaN</td>\n      <td>NaN</td>\n      <td>NaN</td>\n      <td>NaN</td>\n    </tr>\n    <tr>\n      <th>0</th>\n      <td>&lt;!-- google_ad_client = \"ca-pub-47247383615902...</td>\n      <td>NOTE: See below for credit on the data source ...</td>\n      <td>NaN</td>\n      <td>NaN</td>\n      <td>NaN</td>\n      <td>NaN</td>\n      <td>NaN</td>\n      <td>NaN</td>\n      <td>NaN</td>\n      <td>NaN</td>\n      <td>NaN</td>\n      <td>NaN</td>\n      <td>NaN</td>\n    </tr>\n    <tr>\n      <th>0</th>\n      <td>NaN</td>\n      <td>NaN</td>\n      <td>NaN</td>\n      <td>NaN</td>\n      <td>NaN</td>\n      <td>NaN</td>\n      <td>NaN</td>\n      <td>NaN</td>\n      <td>NaN</td>\n      <td>NaN</td>\n      <td>NaN</td>\n      <td>NaN</td>\n      <td>NaN</td>\n    </tr>\n  </tbody>\n</table>\n</div>"
     },
     "metadata": {},
     "execution_count": 14
    }
   ],
   "source": [
    "star_data.head()"
   ]
  },
  {
   "cell_type": "code",
   "execution_count": 15,
   "metadata": {},
   "outputs": [],
   "source": [
    "star_data.drop([0, 1, 2], axis=1, inplace=True)"
   ]
  },
  {
   "cell_type": "code",
   "execution_count": 16,
   "metadata": {},
   "outputs": [],
   "source": [
    "star_data.dropna(axis=0, how='any', inplace=True)"
   ]
  },
  {
   "cell_type": "code",
   "execution_count": 17,
   "metadata": {},
   "outputs": [
    {
     "output_type": "execute_result",
     "data": {
      "text/plain": [
       "1100"
      ]
     },
     "metadata": {},
     "execution_count": 17
    }
   ],
   "source": [
    "len(star_data)"
   ]
  },
  {
   "cell_type": "code",
   "execution_count": 19,
   "metadata": {},
   "outputs": [
    {
     "output_type": "execute_result",
     "data": {
      "text/plain": [
       "   Abs MagMv  Bolo CorrBC(Temp)  Bolo MagMbol  Color IndexB-V  \\\n",
       "1       -9.5              -4.58        -14.08           -0.35   \n",
       "2       -6.7              -4.58        -11.28           -0.35   \n",
       "3       -6.5              -4.58        -11.08           -0.35   \n",
       "4       -6.5              -4.58        -11.08           -0.35   \n",
       "5       -6.5              -4.58        -11.08           -0.35   \n",
       "\n",
       "   LuminosityLstar/Lsun  MassMstar/Msun  RadiusRstar/Rsun Star ColorRGB 0-255  \\\n",
       "1            34100000.0           160.0              80.2         144 166 255   \n",
       "2             2590000.0           150.0              22.1         144 166 255   \n",
       "3             2150000.0           140.0              20.2         144 166 255   \n",
       "4             2150000.0           130.0              20.2         144 166 255   \n",
       "5             2150000.0           120.0              20.2         144 166 255   \n",
       "\n",
       "  StellarType    TempK  \n",
       "1       O0Ia0  50000.0  \n",
       "2        O0Ia  50000.0  \n",
       "3        O0Ib  50000.0  \n",
       "4        O0II  50000.0  \n",
       "5       O0III  50000.0  "
      ],
      "text/html": "<div>\n<style scoped>\n    .dataframe tbody tr th:only-of-type {\n        vertical-align: middle;\n    }\n\n    .dataframe tbody tr th {\n        vertical-align: top;\n    }\n\n    .dataframe thead th {\n        text-align: right;\n    }\n</style>\n<table border=\"1\" class=\"dataframe\">\n  <thead>\n    <tr style=\"text-align: right;\">\n      <th></th>\n      <th>Abs MagMv</th>\n      <th>Bolo CorrBC(Temp)</th>\n      <th>Bolo MagMbol</th>\n      <th>Color IndexB-V</th>\n      <th>LuminosityLstar/Lsun</th>\n      <th>MassMstar/Msun</th>\n      <th>RadiusRstar/Rsun</th>\n      <th>Star ColorRGB 0-255</th>\n      <th>StellarType</th>\n      <th>TempK</th>\n    </tr>\n  </thead>\n  <tbody>\n    <tr>\n      <th>1</th>\n      <td>-9.5</td>\n      <td>-4.58</td>\n      <td>-14.08</td>\n      <td>-0.35</td>\n      <td>34100000.0</td>\n      <td>160.0</td>\n      <td>80.2</td>\n      <td>144 166 255</td>\n      <td>O0Ia0</td>\n      <td>50000.0</td>\n    </tr>\n    <tr>\n      <th>2</th>\n      <td>-6.7</td>\n      <td>-4.58</td>\n      <td>-11.28</td>\n      <td>-0.35</td>\n      <td>2590000.0</td>\n      <td>150.0</td>\n      <td>22.1</td>\n      <td>144 166 255</td>\n      <td>O0Ia</td>\n      <td>50000.0</td>\n    </tr>\n    <tr>\n      <th>3</th>\n      <td>-6.5</td>\n      <td>-4.58</td>\n      <td>-11.08</td>\n      <td>-0.35</td>\n      <td>2150000.0</td>\n      <td>140.0</td>\n      <td>20.2</td>\n      <td>144 166 255</td>\n      <td>O0Ib</td>\n      <td>50000.0</td>\n    </tr>\n    <tr>\n      <th>4</th>\n      <td>-6.5</td>\n      <td>-4.58</td>\n      <td>-11.08</td>\n      <td>-0.35</td>\n      <td>2150000.0</td>\n      <td>130.0</td>\n      <td>20.2</td>\n      <td>144 166 255</td>\n      <td>O0II</td>\n      <td>50000.0</td>\n    </tr>\n    <tr>\n      <th>5</th>\n      <td>-6.5</td>\n      <td>-4.58</td>\n      <td>-11.08</td>\n      <td>-0.35</td>\n      <td>2150000.0</td>\n      <td>120.0</td>\n      <td>20.2</td>\n      <td>144 166 255</td>\n      <td>O0III</td>\n      <td>50000.0</td>\n    </tr>\n  </tbody>\n</table>\n</div>"
     },
     "metadata": {},
     "execution_count": 19
    }
   ],
   "source": [
    "star_data.head()"
   ]
  },
  {
   "cell_type": "code",
   "execution_count": 22,
   "metadata": {},
   "outputs": [],
   "source": [
    "import pandas_profiling"
   ]
  },
  {
   "cell_type": "code",
   "execution_count": 25,
   "metadata": {},
   "outputs": [
    {
     "output_type": "stream",
     "name": "stderr",
     "text": [
      "Summarize dataset: 100%|██████████| 25/25 [00:15<00:00,  1.67it/s, Completed]\n",
      "Generate report structure: 100%|██████████| 1/1 [00:05<00:00,  5.25s/it]\n",
      "Render HTML: 100%|██████████| 1/1 [00:03<00:00,  3.12s/it]\n",
      "Export report to file: 100%|██████████| 1/1 [00:00<00:00, 59.52it/s]\n"
     ]
    }
   ],
   "source": [
    "profile = star_data.profile_report(title='EDA of star dataset using Pandas Profiling')\n",
    "# save the minified report\n",
    "profile.to_file(output_file=\"star.html\")"
   ]
  },
  {
   "cell_type": "code",
   "execution_count": null,
   "metadata": {},
   "outputs": [],
   "source": []
  }
 ]
}