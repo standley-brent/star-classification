{
 "metadata": {
  "language_info": {
   "codemirror_mode": {
    "name": "ipython",
    "version": 3
   },
   "file_extension": ".py",
   "mimetype": "text/x-python",
   "name": "python",
   "nbconvert_exporter": "python",
   "pygments_lexer": "ipython3",
   "version": "3.7.5-final"
  },
  "orig_nbformat": 2,
  "kernelspec": {
   "name": "9b2c2bea-78c9-4395-bff6-1bc9888f2370",
   "display_name": "'Python Interactive'"
  }
 },
 "nbformat": 4,
 "nbformat_minor": 2,
 "cells": [
  {
   "cell_type": "code",
   "execution_count": 2,
   "metadata": {},
   "outputs": [],
   "source": [
    "import pandas as pd \n",
    "import numpy as np \n",
    "import requests\n",
    "from bs4 import BeautifulSoup"
   ]
  },
  {
   "cell_type": "code",
   "execution_count": 4,
   "metadata": {},
   "outputs": [],
   "source": [
    "url = \"http://www.isthe.com/chongo/tech/astro/HR-temp-mass-table-byhrclass.html#below\""
   ]
  },
  {
   "cell_type": "code",
   "execution_count": 5,
   "metadata": {},
   "outputs": [],
   "source": [
    "star_data = pd.DataFrame()\n",
    "html = pd.read_html(url)\n",
    "for i in html:\n",
    "    star_data = pd.concat([star_data, i])"
   ]
  },
  {
   "cell_type": "code",
   "execution_count": 6,
   "metadata": {},
   "outputs": [
    {
     "output_type": "execute_result",
     "data": {
      "text/plain": [
       "1242"
      ]
     },
     "metadata": {},
     "execution_count": 6
    }
   ],
   "source": [
    "len(star_data)"
   ]
  },
  {
   "cell_type": "code",
   "execution_count": 10,
   "metadata": {},
   "outputs": [
    {
     "output_type": "execute_result",
     "data": {
      "text/plain": [
       "                                                   0  \\\n",
       "0                                                NaN   \n",
       "1                                                NaN   \n",
       "2                                                NaN   \n",
       "0  <!-- google_ad_client = \"ca-pub-47247383615902...   \n",
       "0                                                NaN   \n",
       "\n",
       "                                                   1  \\\n",
       "0                                                NaN   \n",
       "1  Stellar Classification Table - sorted by HR Class   \n",
       "2  [chongo's home] [Astronomy] [Mathematics] [Pri...   \n",
       "0  NOTE: See below for credit on the data source ...   \n",
       "0                                                NaN   \n",
       "\n",
       "                                                   2  Abs MagMv  \\\n",
       "0                         custom search of this site        NaN   \n",
       "1  Stellar Classification Table - sorted by HR Class        NaN   \n",
       "2  [chongo's home] [Astronomy] [Mathematics] [Pri...        NaN   \n",
       "0                                                NaN        NaN   \n",
       "0                                                NaN        NaN   \n",
       "\n",
       "   Bolo CorrBC(Temp)  Bolo MagMbol  Color IndexB-V  LuminosityLstar/Lsun  \\\n",
       "0                NaN           NaN             NaN                   NaN   \n",
       "1                NaN           NaN             NaN                   NaN   \n",
       "2                NaN           NaN             NaN                   NaN   \n",
       "0                NaN           NaN             NaN                   NaN   \n",
       "0                NaN           NaN             NaN                   NaN   \n",
       "\n",
       "   MassMstar/Msun  RadiusRstar/Rsun Star ColorRGB 0-255 StellarType  TempK  \n",
       "0             NaN               NaN                 NaN         NaN    NaN  \n",
       "1             NaN               NaN                 NaN         NaN    NaN  \n",
       "2             NaN               NaN                 NaN         NaN    NaN  \n",
       "0             NaN               NaN                 NaN         NaN    NaN  \n",
       "0             NaN               NaN                 NaN         NaN    NaN  "
      ],
      "text/html": "<div>\n<style scoped>\n    .dataframe tbody tr th:only-of-type {\n        vertical-align: middle;\n    }\n\n    .dataframe tbody tr th {\n        vertical-align: top;\n    }\n\n    .dataframe thead th {\n        text-align: right;\n    }\n</style>\n<table border=\"1\" class=\"dataframe\">\n  <thead>\n    <tr style=\"text-align: right;\">\n      <th></th>\n      <th>0</th>\n      <th>1</th>\n      <th>2</th>\n      <th>Abs MagMv</th>\n      <th>Bolo CorrBC(Temp)</th>\n      <th>Bolo MagMbol</th>\n      <th>Color IndexB-V</th>\n      <th>LuminosityLstar/Lsun</th>\n      <th>MassMstar/Msun</th>\n      <th>RadiusRstar/Rsun</th>\n      <th>Star ColorRGB 0-255</th>\n      <th>StellarType</th>\n      <th>TempK</th>\n    </tr>\n  </thead>\n  <tbody>\n    <tr>\n      <th>0</th>\n      <td>NaN</td>\n      <td>NaN</td>\n      <td>custom search of this site</td>\n      <td>NaN</td>\n      <td>NaN</td>\n      <td>NaN</td>\n      <td>NaN</td>\n      <td>NaN</td>\n      <td>NaN</td>\n      <td>NaN</td>\n      <td>NaN</td>\n      <td>NaN</td>\n      <td>NaN</td>\n    </tr>\n    <tr>\n      <th>1</th>\n      <td>NaN</td>\n      <td>Stellar Classification Table - sorted by HR Class</td>\n      <td>Stellar Classification Table - sorted by HR Class</td>\n      <td>NaN</td>\n      <td>NaN</td>\n      <td>NaN</td>\n      <td>NaN</td>\n      <td>NaN</td>\n      <td>NaN</td>\n      <td>NaN</td>\n      <td>NaN</td>\n      <td>NaN</td>\n      <td>NaN</td>\n    </tr>\n    <tr>\n      <th>2</th>\n      <td>NaN</td>\n      <td>[chongo's home] [Astronomy] [Mathematics] [Pri...</td>\n      <td>[chongo's home] [Astronomy] [Mathematics] [Pri...</td>\n      <td>NaN</td>\n      <td>NaN</td>\n      <td>NaN</td>\n      <td>NaN</td>\n      <td>NaN</td>\n      <td>NaN</td>\n      <td>NaN</td>\n      <td>NaN</td>\n      <td>NaN</td>\n      <td>NaN</td>\n    </tr>\n    <tr>\n      <th>0</th>\n      <td>&lt;!-- google_ad_client = \"ca-pub-47247383615902...</td>\n      <td>NOTE: See below for credit on the data source ...</td>\n      <td>NaN</td>\n      <td>NaN</td>\n      <td>NaN</td>\n      <td>NaN</td>\n      <td>NaN</td>\n      <td>NaN</td>\n      <td>NaN</td>\n      <td>NaN</td>\n      <td>NaN</td>\n      <td>NaN</td>\n      <td>NaN</td>\n    </tr>\n    <tr>\n      <th>0</th>\n      <td>NaN</td>\n      <td>NaN</td>\n      <td>NaN</td>\n      <td>NaN</td>\n      <td>NaN</td>\n      <td>NaN</td>\n      <td>NaN</td>\n      <td>NaN</td>\n      <td>NaN</td>\n      <td>NaN</td>\n      <td>NaN</td>\n      <td>NaN</td>\n      <td>NaN</td>\n    </tr>\n  </tbody>\n</table>\n</div>"
     },
     "metadata": {},
     "execution_count": 10
    }
   ],
   "source": [
    "star_data.head()"
   ]
  },
  {
   "cell_type": "code",
   "execution_count": null,
   "metadata": {},
   "outputs": [],
   "source": []
  }
 ]
}