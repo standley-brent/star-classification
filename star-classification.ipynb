{
 "metadata": {
  "language_info": {
   "codemirror_mode": {
    "name": "ipython",
    "version": 3
   },
   "file_extension": ".py",
   "mimetype": "text/x-python",
   "name": "python",
   "nbconvert_exporter": "python",
   "pygments_lexer": "ipython3",
   "version": "3.7.5-final"
  },
  "orig_nbformat": 2,
  "kernelspec": {
   "name": "9b2c2bea-78c9-4395-bff6-1bc9888f2370",
   "display_name": "'Python Interactive'"
  }
 },
 "nbformat": 4,
 "nbformat_minor": 2,
 "cells": [
  {
   "cell_type": "code",
   "execution_count": 22,
   "metadata": {},
   "outputs": [],
   "source": [
    "import pandas as pd \n",
    "import numpy as np \n",
    "import requests\n",
    "import matplotlib as plt \n",
    "import seaborn as sns \n",
    "import pandas_profiling\n",
    "from sklearn.model_selection import train_test_split\n",
    "from sklearn.linear_model import LogisticRegression\n",
    "from sklearn.metrics import classification_report, confusion_matrix"
   ]
  },
  {
   "cell_type": "code",
   "execution_count": 60,
   "metadata": {},
   "outputs": [],
   "source": [
    "url = \"http://www.isthe.com/chongo/tech/astro/HR-temp-mass-table-byhrclass.html#below\""
   ]
  },
  {
   "cell_type": "code",
   "execution_count": 107,
   "metadata": {},
   "outputs": [],
   "source": [
    "star_data = pd.DataFrame()\n",
    "html = pd.read_html(url)\n",
    "for i in html:\n",
    "    star_data = pd.concat([star_data, i])"
   ]
  },
  {
   "cell_type": "code",
   "execution_count": 96,
   "metadata": {},
   "outputs": [
    {
     "output_type": "execute_result",
     "data": {
      "text/plain": [
       "1242"
      ]
     },
     "metadata": {},
     "execution_count": 96
    }
   ],
   "source": [
    "len(star_data)"
   ]
  },
  {
   "cell_type": "code",
   "execution_count": 108,
   "metadata": {},
   "outputs": [],
   "source": [
    "star_data.drop([0, 1, 2], axis=1, inplace=True)"
   ]
  },
  {
   "cell_type": "code",
   "execution_count": 109,
   "metadata": {},
   "outputs": [],
   "source": [
    "star_data.dropna(axis=0, inplace=True)"
   ]
  },
  {
   "cell_type": "code",
   "execution_count": 110,
   "metadata": {},
   "outputs": [
    {
     "output_type": "execute_result",
     "data": {
      "text/plain": [
       "1100"
      ]
     },
     "metadata": {},
     "execution_count": 110
    }
   ],
   "source": [
    "len(star_data)"
   ]
  },
  {
   "cell_type": "code",
   "execution_count": 111,
   "metadata": {},
   "outputs": [],
   "source": [
    "for index, row in star_data.iterrows():\n",
    "    temp = row['Star ColorRGB 0-255'].split()\n",
    "    int_list = [int(i) for i in temp]\n",
    "    int_tup = tuple(int_list)\n",
    "    hex_col = '%02x%02x%02x' % int_tup\n",
    "    star_data['hex_color'] = int(hex_col, 16)"
   ]
  },
  {
   "cell_type": "code",
   "execution_count": 112,
   "metadata": {},
   "outputs": [],
   "source": [
    "star_data.drop(['Star ColorRGB 0-255'], axis=1, inplace=True)"
   ]
  },
  {
   "cell_type": "code",
   "execution_count": 116,
   "metadata": {},
   "outputs": [
    {
     "output_type": "execute_result",
     "data": {
      "text/plain": [
       "      Abs MagMv  Bolo CorrBC(Temp)  Bolo MagMbol  Color IndexB-V  \\\n",
       "1182       10.2              -7.55          2.65           -0.37   \n",
       "1183       10.8              -4.61          6.19           -0.35   \n",
       "1184       11.4              -2.67          8.73           -0.27   \n",
       "1185       11.9              -1.60         10.30           -0.20   \n",
       "1186       12.5              -0.90         11.60           -0.13   \n",
       "1187       13.1              -0.45         12.65           -0.07   \n",
       "1188       13.7              -0.20         13.50            0.09   \n",
       "1189       14.2              -0.09         14.11            0.34   \n",
       "1190       14.8              -0.10         14.70            0.55   \n",
       "1191       15.4              -0.22         15.18            0.74   \n",
       "1193       10.2              -7.55          2.65           -0.37   \n",
       "1194       10.8              -4.61          6.19           -0.35   \n",
       "1195       11.4              -2.67          8.73           -0.27   \n",
       "1196       11.9              -1.60         10.30           -0.20   \n",
       "1197       12.5              -0.90         11.60           -0.13   \n",
       "1198       13.1              -0.45         12.65           -0.07   \n",
       "1199       13.7              -0.20         13.50            0.09   \n",
       "1200       14.2              -0.09         14.11            0.34   \n",
       "1201       14.8              -0.10         14.70            0.55   \n",
       "1202       15.4              -0.22         15.18            0.74   \n",
       "1204       10.2              -7.55          2.65           -0.37   \n",
       "1205       10.8              -4.61          6.19           -0.35   \n",
       "1206       11.4              -2.67          8.73           -0.27   \n",
       "1207       11.9              -1.60         10.30           -0.20   \n",
       "1208       12.5              -0.90         11.60           -0.13   \n",
       "1209       13.1              -0.45         12.65           -0.07   \n",
       "1210       13.7              -0.20         13.50            0.09   \n",
       "1211       14.2              -0.09         14.11            0.34   \n",
       "1212       14.8              -0.10         14.70            0.55   \n",
       "1213       15.4              -0.22         15.18            0.74   \n",
       "1215       10.2              -7.55          2.65           -0.37   \n",
       "1216       10.8              -4.61          6.19           -0.35   \n",
       "1217       11.4              -2.67          8.73           -0.27   \n",
       "1218       11.9              -1.60         10.30           -0.20   \n",
       "1219       12.5              -0.90         11.60           -0.13   \n",
       "1220       13.1              -0.45         12.65           -0.07   \n",
       "1221       13.7              -0.20         13.50            0.09   \n",
       "1222       14.2              -0.09         14.11            0.34   \n",
       "1223       14.8              -0.10         14.70            0.55   \n",
       "1224       15.4              -0.22         15.18            0.74   \n",
       "1226       10.2              -7.55          2.65           -0.37   \n",
       "1227       10.8              -4.61          6.19           -0.35   \n",
       "1228       11.4              -2.67          8.73           -0.27   \n",
       "1229       11.9              -1.60         10.30           -0.20   \n",
       "1230       12.5              -0.90         11.60           -0.13   \n",
       "1231       13.1              -0.45         12.65           -0.07   \n",
       "1232       13.7              -0.20         13.50            0.09   \n",
       "1233       14.2              -0.09         14.11            0.34   \n",
       "1234       14.8              -0.10         14.70            0.55   \n",
       "1235       15.4              -0.22         15.18            0.74   \n",
       "\n",
       "      LuminosityLstar/Lsun  MassMstar/Msun  RadiusRstar/Rsun StellarType  \\\n",
       "1182              6.910000             1.1           0.00902         DB0   \n",
       "1183              0.265000             0.9           0.00696         DB1   \n",
       "1184              0.025500             0.8           0.00864         DB2   \n",
       "1185              0.006020             0.7           0.00944         DB3   \n",
       "1186              0.001820             0.6           0.00922         DB4   \n",
       "1187              0.000693             0.5           0.00890         DB5   \n",
       "1188              0.000315             0.4           0.00864         DB6   \n",
       "1189              0.000180             0.3           0.00889         DB7   \n",
       "1190              0.000105             0.2           0.00887         DB8   \n",
       "1191              0.000067             0.1           0.00898         DB9   \n",
       "1193              6.910000             1.1           0.00902         DC0   \n",
       "1194              0.265000             0.9           0.00696         DC1   \n",
       "1195              0.025500             0.8           0.00864         DC2   \n",
       "1196              0.006020             0.7           0.00944         DC3   \n",
       "1197              0.001820             0.6           0.00922         DC4   \n",
       "1198              0.000693             0.5           0.00890         DC5   \n",
       "1199              0.000315             0.4           0.00864         DC6   \n",
       "1200              0.000180             0.3           0.00889         DC7   \n",
       "1201              0.000105             0.2           0.00887         DC8   \n",
       "1202              0.000067             0.1           0.00898         DC9   \n",
       "1204              6.910000             1.1           0.00902         DO0   \n",
       "1205              0.265000             0.9           0.00696         DO1   \n",
       "1206              0.025500             0.8           0.00864         DO2   \n",
       "1207              0.006020             0.7           0.00944         DO3   \n",
       "1208              0.001820             0.6           0.00922         DO4   \n",
       "1209              0.000693             0.5           0.00890         DO5   \n",
       "1210              0.000315             0.4           0.00864         DO6   \n",
       "1211              0.000180             0.3           0.00889         DO7   \n",
       "1212              0.000105             0.2           0.00887         DO8   \n",
       "1213              0.000067             0.1           0.00898         DO9   \n",
       "1215              6.910000             1.1           0.00902         DQ0   \n",
       "1216              0.265000             0.9           0.00696         DQ1   \n",
       "1217              0.025500             0.8           0.00864         DQ2   \n",
       "1218              0.006020             0.7           0.00944         DQ3   \n",
       "1219              0.001820             0.6           0.00922         DQ4   \n",
       "1220              0.000693             0.5           0.00890         DQ5   \n",
       "1221              0.000315             0.4           0.00864         DQ6   \n",
       "1222              0.000180             0.3           0.00889         DQ7   \n",
       "1223              0.000105             0.2           0.00887         DQ8   \n",
       "1224              0.000067             0.1           0.00898         DQ9   \n",
       "1226              6.910000             1.1           0.00902         DZ0   \n",
       "1227              0.265000             0.9           0.00696         DZ1   \n",
       "1228              0.025500             0.8           0.00864         DZ2   \n",
       "1229              0.006020             0.7           0.00944         DZ3   \n",
       "1230              0.001820             0.6           0.00922         DZ4   \n",
       "1231              0.000693             0.5           0.00890         DZ5   \n",
       "1232              0.000315             0.4           0.00864         DZ6   \n",
       "1233              0.000180             0.3           0.00889         DZ7   \n",
       "1234              0.000105             0.2           0.00887         DZ8   \n",
       "1235              0.000067             0.1           0.00898         DZ9   \n",
       "\n",
       "         TempK  hex_color  \n",
       "1182  100000.0   16773089  \n",
       "1183   50400.0   16773089  \n",
       "1184   25200.0   16773089  \n",
       "1185   16800.0   16773089  \n",
       "1186   12600.0   16773089  \n",
       "1187   10080.0   16773089  \n",
       "1188    8400.0   16773089  \n",
       "1189    7200.0   16773089  \n",
       "1190    6300.0   16773089  \n",
       "1191    5600.0   16773089  \n",
       "1193  100000.0   16773089  \n",
       "1194   50400.0   16773089  \n",
       "1195   25200.0   16773089  \n",
       "1196   16800.0   16773089  \n",
       "1197   12600.0   16773089  \n",
       "1198   10080.0   16773089  \n",
       "1199    8400.0   16773089  \n",
       "1200    7200.0   16773089  \n",
       "1201    6300.0   16773089  \n",
       "1202    5600.0   16773089  \n",
       "1204  100000.0   16773089  \n",
       "1205   50400.0   16773089  \n",
       "1206   25200.0   16773089  \n",
       "1207   16800.0   16773089  \n",
       "1208   12600.0   16773089  \n",
       "1209   10080.0   16773089  \n",
       "1210    8400.0   16773089  \n",
       "1211    7200.0   16773089  \n",
       "1212    6300.0   16773089  \n",
       "1213    5600.0   16773089  \n",
       "1215  100000.0   16773089  \n",
       "1216   50400.0   16773089  \n",
       "1217   25200.0   16773089  \n",
       "1218   16800.0   16773089  \n",
       "1219   12600.0   16773089  \n",
       "1220   10080.0   16773089  \n",
       "1221    8400.0   16773089  \n",
       "1222    7200.0   16773089  \n",
       "1223    6300.0   16773089  \n",
       "1224    5600.0   16773089  \n",
       "1226  100000.0   16773089  \n",
       "1227   50400.0   16773089  \n",
       "1228   25200.0   16773089  \n",
       "1229   16800.0   16773089  \n",
       "1230   12600.0   16773089  \n",
       "1231   10080.0   16773089  \n",
       "1232    8400.0   16773089  \n",
       "1233    7200.0   16773089  \n",
       "1234    6300.0   16773089  \n",
       "1235    5600.0   16773089  "
      ],
      "text/html": "<div>\n<style scoped>\n    .dataframe tbody tr th:only-of-type {\n        vertical-align: middle;\n    }\n\n    .dataframe tbody tr th {\n        vertical-align: top;\n    }\n\n    .dataframe thead th {\n        text-align: right;\n    }\n</style>\n<table border=\"1\" class=\"dataframe\">\n  <thead>\n    <tr style=\"text-align: right;\">\n      <th></th>\n      <th>Abs MagMv</th>\n      <th>Bolo CorrBC(Temp)</th>\n      <th>Bolo MagMbol</th>\n      <th>Color IndexB-V</th>\n      <th>LuminosityLstar/Lsun</th>\n      <th>MassMstar/Msun</th>\n      <th>RadiusRstar/Rsun</th>\n      <th>StellarType</th>\n      <th>TempK</th>\n      <th>hex_color</th>\n    </tr>\n  </thead>\n  <tbody>\n    <tr>\n      <th>1182</th>\n      <td>10.2</td>\n      <td>-7.55</td>\n      <td>2.65</td>\n      <td>-0.37</td>\n      <td>6.910000</td>\n      <td>1.1</td>\n      <td>0.00902</td>\n      <td>DB0</td>\n      <td>100000.0</td>\n      <td>16773089</td>\n    </tr>\n    <tr>\n      <th>1183</th>\n      <td>10.8</td>\n      <td>-4.61</td>\n      <td>6.19</td>\n      <td>-0.35</td>\n      <td>0.265000</td>\n      <td>0.9</td>\n      <td>0.00696</td>\n      <td>DB1</td>\n      <td>50400.0</td>\n      <td>16773089</td>\n    </tr>\n    <tr>\n      <th>1184</th>\n      <td>11.4</td>\n      <td>-2.67</td>\n      <td>8.73</td>\n      <td>-0.27</td>\n      <td>0.025500</td>\n      <td>0.8</td>\n      <td>0.00864</td>\n      <td>DB2</td>\n      <td>25200.0</td>\n      <td>16773089</td>\n    </tr>\n    <tr>\n      <th>1185</th>\n      <td>11.9</td>\n      <td>-1.60</td>\n      <td>10.30</td>\n      <td>-0.20</td>\n      <td>0.006020</td>\n      <td>0.7</td>\n      <td>0.00944</td>\n      <td>DB3</td>\n      <td>16800.0</td>\n      <td>16773089</td>\n    </tr>\n    <tr>\n      <th>1186</th>\n      <td>12.5</td>\n      <td>-0.90</td>\n      <td>11.60</td>\n      <td>-0.13</td>\n      <td>0.001820</td>\n      <td>0.6</td>\n      <td>0.00922</td>\n      <td>DB4</td>\n      <td>12600.0</td>\n      <td>16773089</td>\n    </tr>\n    <tr>\n      <th>1187</th>\n      <td>13.1</td>\n      <td>-0.45</td>\n      <td>12.65</td>\n      <td>-0.07</td>\n      <td>0.000693</td>\n      <td>0.5</td>\n      <td>0.00890</td>\n      <td>DB5</td>\n      <td>10080.0</td>\n      <td>16773089</td>\n    </tr>\n    <tr>\n      <th>1188</th>\n      <td>13.7</td>\n      <td>-0.20</td>\n      <td>13.50</td>\n      <td>0.09</td>\n      <td>0.000315</td>\n      <td>0.4</td>\n      <td>0.00864</td>\n      <td>DB6</td>\n      <td>8400.0</td>\n      <td>16773089</td>\n    </tr>\n    <tr>\n      <th>1189</th>\n      <td>14.2</td>\n      <td>-0.09</td>\n      <td>14.11</td>\n      <td>0.34</td>\n      <td>0.000180</td>\n      <td>0.3</td>\n      <td>0.00889</td>\n      <td>DB7</td>\n      <td>7200.0</td>\n      <td>16773089</td>\n    </tr>\n    <tr>\n      <th>1190</th>\n      <td>14.8</td>\n      <td>-0.10</td>\n      <td>14.70</td>\n      <td>0.55</td>\n      <td>0.000105</td>\n      <td>0.2</td>\n      <td>0.00887</td>\n      <td>DB8</td>\n      <td>6300.0</td>\n      <td>16773089</td>\n    </tr>\n    <tr>\n      <th>1191</th>\n      <td>15.4</td>\n      <td>-0.22</td>\n      <td>15.18</td>\n      <td>0.74</td>\n      <td>0.000067</td>\n      <td>0.1</td>\n      <td>0.00898</td>\n      <td>DB9</td>\n      <td>5600.0</td>\n      <td>16773089</td>\n    </tr>\n    <tr>\n      <th>1193</th>\n      <td>10.2</td>\n      <td>-7.55</td>\n      <td>2.65</td>\n      <td>-0.37</td>\n      <td>6.910000</td>\n      <td>1.1</td>\n      <td>0.00902</td>\n      <td>DC0</td>\n      <td>100000.0</td>\n      <td>16773089</td>\n    </tr>\n    <tr>\n      <th>1194</th>\n      <td>10.8</td>\n      <td>-4.61</td>\n      <td>6.19</td>\n      <td>-0.35</td>\n      <td>0.265000</td>\n      <td>0.9</td>\n      <td>0.00696</td>\n      <td>DC1</td>\n      <td>50400.0</td>\n      <td>16773089</td>\n    </tr>\n    <tr>\n      <th>1195</th>\n      <td>11.4</td>\n      <td>-2.67</td>\n      <td>8.73</td>\n      <td>-0.27</td>\n      <td>0.025500</td>\n      <td>0.8</td>\n      <td>0.00864</td>\n      <td>DC2</td>\n      <td>25200.0</td>\n      <td>16773089</td>\n    </tr>\n    <tr>\n      <th>1196</th>\n      <td>11.9</td>\n      <td>-1.60</td>\n      <td>10.30</td>\n      <td>-0.20</td>\n      <td>0.006020</td>\n      <td>0.7</td>\n      <td>0.00944</td>\n      <td>DC3</td>\n      <td>16800.0</td>\n      <td>16773089</td>\n    </tr>\n    <tr>\n      <th>1197</th>\n      <td>12.5</td>\n      <td>-0.90</td>\n      <td>11.60</td>\n      <td>-0.13</td>\n      <td>0.001820</td>\n      <td>0.6</td>\n      <td>0.00922</td>\n      <td>DC4</td>\n      <td>12600.0</td>\n      <td>16773089</td>\n    </tr>\n    <tr>\n      <th>1198</th>\n      <td>13.1</td>\n      <td>-0.45</td>\n      <td>12.65</td>\n      <td>-0.07</td>\n      <td>0.000693</td>\n      <td>0.5</td>\n      <td>0.00890</td>\n      <td>DC5</td>\n      <td>10080.0</td>\n      <td>16773089</td>\n    </tr>\n    <tr>\n      <th>1199</th>\n      <td>13.7</td>\n      <td>-0.20</td>\n      <td>13.50</td>\n      <td>0.09</td>\n      <td>0.000315</td>\n      <td>0.4</td>\n      <td>0.00864</td>\n      <td>DC6</td>\n      <td>8400.0</td>\n      <td>16773089</td>\n    </tr>\n    <tr>\n      <th>1200</th>\n      <td>14.2</td>\n      <td>-0.09</td>\n      <td>14.11</td>\n      <td>0.34</td>\n      <td>0.000180</td>\n      <td>0.3</td>\n      <td>0.00889</td>\n      <td>DC7</td>\n      <td>7200.0</td>\n      <td>16773089</td>\n    </tr>\n    <tr>\n      <th>1201</th>\n      <td>14.8</td>\n      <td>-0.10</td>\n      <td>14.70</td>\n      <td>0.55</td>\n      <td>0.000105</td>\n      <td>0.2</td>\n      <td>0.00887</td>\n      <td>DC8</td>\n      <td>6300.0</td>\n      <td>16773089</td>\n    </tr>\n    <tr>\n      <th>1202</th>\n      <td>15.4</td>\n      <td>-0.22</td>\n      <td>15.18</td>\n      <td>0.74</td>\n      <td>0.000067</td>\n      <td>0.1</td>\n      <td>0.00898</td>\n      <td>DC9</td>\n      <td>5600.0</td>\n      <td>16773089</td>\n    </tr>\n    <tr>\n      <th>1204</th>\n      <td>10.2</td>\n      <td>-7.55</td>\n      <td>2.65</td>\n      <td>-0.37</td>\n      <td>6.910000</td>\n      <td>1.1</td>\n      <td>0.00902</td>\n      <td>DO0</td>\n      <td>100000.0</td>\n      <td>16773089</td>\n    </tr>\n    <tr>\n      <th>1205</th>\n      <td>10.8</td>\n      <td>-4.61</td>\n      <td>6.19</td>\n      <td>-0.35</td>\n      <td>0.265000</td>\n      <td>0.9</td>\n      <td>0.00696</td>\n      <td>DO1</td>\n      <td>50400.0</td>\n      <td>16773089</td>\n    </tr>\n    <tr>\n      <th>1206</th>\n      <td>11.4</td>\n      <td>-2.67</td>\n      <td>8.73</td>\n      <td>-0.27</td>\n      <td>0.025500</td>\n      <td>0.8</td>\n      <td>0.00864</td>\n      <td>DO2</td>\n      <td>25200.0</td>\n      <td>16773089</td>\n    </tr>\n    <tr>\n      <th>1207</th>\n      <td>11.9</td>\n      <td>-1.60</td>\n      <td>10.30</td>\n      <td>-0.20</td>\n      <td>0.006020</td>\n      <td>0.7</td>\n      <td>0.00944</td>\n      <td>DO3</td>\n      <td>16800.0</td>\n      <td>16773089</td>\n    </tr>\n    <tr>\n      <th>1208</th>\n      <td>12.5</td>\n      <td>-0.90</td>\n      <td>11.60</td>\n      <td>-0.13</td>\n      <td>0.001820</td>\n      <td>0.6</td>\n      <td>0.00922</td>\n      <td>DO4</td>\n      <td>12600.0</td>\n      <td>16773089</td>\n    </tr>\n    <tr>\n      <th>1209</th>\n      <td>13.1</td>\n      <td>-0.45</td>\n      <td>12.65</td>\n      <td>-0.07</td>\n      <td>0.000693</td>\n      <td>0.5</td>\n      <td>0.00890</td>\n      <td>DO5</td>\n      <td>10080.0</td>\n      <td>16773089</td>\n    </tr>\n    <tr>\n      <th>1210</th>\n      <td>13.7</td>\n      <td>-0.20</td>\n      <td>13.50</td>\n      <td>0.09</td>\n      <td>0.000315</td>\n      <td>0.4</td>\n      <td>0.00864</td>\n      <td>DO6</td>\n      <td>8400.0</td>\n      <td>16773089</td>\n    </tr>\n    <tr>\n      <th>1211</th>\n      <td>14.2</td>\n      <td>-0.09</td>\n      <td>14.11</td>\n      <td>0.34</td>\n      <td>0.000180</td>\n      <td>0.3</td>\n      <td>0.00889</td>\n      <td>DO7</td>\n      <td>7200.0</td>\n      <td>16773089</td>\n    </tr>\n    <tr>\n      <th>1212</th>\n      <td>14.8</td>\n      <td>-0.10</td>\n      <td>14.70</td>\n      <td>0.55</td>\n      <td>0.000105</td>\n      <td>0.2</td>\n      <td>0.00887</td>\n      <td>DO8</td>\n      <td>6300.0</td>\n      <td>16773089</td>\n    </tr>\n    <tr>\n      <th>1213</th>\n      <td>15.4</td>\n      <td>-0.22</td>\n      <td>15.18</td>\n      <td>0.74</td>\n      <td>0.000067</td>\n      <td>0.1</td>\n      <td>0.00898</td>\n      <td>DO9</td>\n      <td>5600.0</td>\n      <td>16773089</td>\n    </tr>\n    <tr>\n      <th>1215</th>\n      <td>10.2</td>\n      <td>-7.55</td>\n      <td>2.65</td>\n      <td>-0.37</td>\n      <td>6.910000</td>\n      <td>1.1</td>\n      <td>0.00902</td>\n      <td>DQ0</td>\n      <td>100000.0</td>\n      <td>16773089</td>\n    </tr>\n    <tr>\n      <th>1216</th>\n      <td>10.8</td>\n      <td>-4.61</td>\n      <td>6.19</td>\n      <td>-0.35</td>\n      <td>0.265000</td>\n      <td>0.9</td>\n      <td>0.00696</td>\n      <td>DQ1</td>\n      <td>50400.0</td>\n      <td>16773089</td>\n    </tr>\n    <tr>\n      <th>1217</th>\n      <td>11.4</td>\n      <td>-2.67</td>\n      <td>8.73</td>\n      <td>-0.27</td>\n      <td>0.025500</td>\n      <td>0.8</td>\n      <td>0.00864</td>\n      <td>DQ2</td>\n      <td>25200.0</td>\n      <td>16773089</td>\n    </tr>\n    <tr>\n      <th>1218</th>\n      <td>11.9</td>\n      <td>-1.60</td>\n      <td>10.30</td>\n      <td>-0.20</td>\n      <td>0.006020</td>\n      <td>0.7</td>\n      <td>0.00944</td>\n      <td>DQ3</td>\n      <td>16800.0</td>\n      <td>16773089</td>\n    </tr>\n    <tr>\n      <th>1219</th>\n      <td>12.5</td>\n      <td>-0.90</td>\n      <td>11.60</td>\n      <td>-0.13</td>\n      <td>0.001820</td>\n      <td>0.6</td>\n      <td>0.00922</td>\n      <td>DQ4</td>\n      <td>12600.0</td>\n      <td>16773089</td>\n    </tr>\n    <tr>\n      <th>1220</th>\n      <td>13.1</td>\n      <td>-0.45</td>\n      <td>12.65</td>\n      <td>-0.07</td>\n      <td>0.000693</td>\n      <td>0.5</td>\n      <td>0.00890</td>\n      <td>DQ5</td>\n      <td>10080.0</td>\n      <td>16773089</td>\n    </tr>\n    <tr>\n      <th>1221</th>\n      <td>13.7</td>\n      <td>-0.20</td>\n      <td>13.50</td>\n      <td>0.09</td>\n      <td>0.000315</td>\n      <td>0.4</td>\n      <td>0.00864</td>\n      <td>DQ6</td>\n      <td>8400.0</td>\n      <td>16773089</td>\n    </tr>\n    <tr>\n      <th>1222</th>\n      <td>14.2</td>\n      <td>-0.09</td>\n      <td>14.11</td>\n      <td>0.34</td>\n      <td>0.000180</td>\n      <td>0.3</td>\n      <td>0.00889</td>\n      <td>DQ7</td>\n      <td>7200.0</td>\n      <td>16773089</td>\n    </tr>\n    <tr>\n      <th>1223</th>\n      <td>14.8</td>\n      <td>-0.10</td>\n      <td>14.70</td>\n      <td>0.55</td>\n      <td>0.000105</td>\n      <td>0.2</td>\n      <td>0.00887</td>\n      <td>DQ8</td>\n      <td>6300.0</td>\n      <td>16773089</td>\n    </tr>\n    <tr>\n      <th>1224</th>\n      <td>15.4</td>\n      <td>-0.22</td>\n      <td>15.18</td>\n      <td>0.74</td>\n      <td>0.000067</td>\n      <td>0.1</td>\n      <td>0.00898</td>\n      <td>DQ9</td>\n      <td>5600.0</td>\n      <td>16773089</td>\n    </tr>\n    <tr>\n      <th>1226</th>\n      <td>10.2</td>\n      <td>-7.55</td>\n      <td>2.65</td>\n      <td>-0.37</td>\n      <td>6.910000</td>\n      <td>1.1</td>\n      <td>0.00902</td>\n      <td>DZ0</td>\n      <td>100000.0</td>\n      <td>16773089</td>\n    </tr>\n    <tr>\n      <th>1227</th>\n      <td>10.8</td>\n      <td>-4.61</td>\n      <td>6.19</td>\n      <td>-0.35</td>\n      <td>0.265000</td>\n      <td>0.9</td>\n      <td>0.00696</td>\n      <td>DZ1</td>\n      <td>50400.0</td>\n      <td>16773089</td>\n    </tr>\n    <tr>\n      <th>1228</th>\n      <td>11.4</td>\n      <td>-2.67</td>\n      <td>8.73</td>\n      <td>-0.27</td>\n      <td>0.025500</td>\n      <td>0.8</td>\n      <td>0.00864</td>\n      <td>DZ2</td>\n      <td>25200.0</td>\n      <td>16773089</td>\n    </tr>\n    <tr>\n      <th>1229</th>\n      <td>11.9</td>\n      <td>-1.60</td>\n      <td>10.30</td>\n      <td>-0.20</td>\n      <td>0.006020</td>\n      <td>0.7</td>\n      <td>0.00944</td>\n      <td>DZ3</td>\n      <td>16800.0</td>\n      <td>16773089</td>\n    </tr>\n    <tr>\n      <th>1230</th>\n      <td>12.5</td>\n      <td>-0.90</td>\n      <td>11.60</td>\n      <td>-0.13</td>\n      <td>0.001820</td>\n      <td>0.6</td>\n      <td>0.00922</td>\n      <td>DZ4</td>\n      <td>12600.0</td>\n      <td>16773089</td>\n    </tr>\n    <tr>\n      <th>1231</th>\n      <td>13.1</td>\n      <td>-0.45</td>\n      <td>12.65</td>\n      <td>-0.07</td>\n      <td>0.000693</td>\n      <td>0.5</td>\n      <td>0.00890</td>\n      <td>DZ5</td>\n      <td>10080.0</td>\n      <td>16773089</td>\n    </tr>\n    <tr>\n      <th>1232</th>\n      <td>13.7</td>\n      <td>-0.20</td>\n      <td>13.50</td>\n      <td>0.09</td>\n      <td>0.000315</td>\n      <td>0.4</td>\n      <td>0.00864</td>\n      <td>DZ6</td>\n      <td>8400.0</td>\n      <td>16773089</td>\n    </tr>\n    <tr>\n      <th>1233</th>\n      <td>14.2</td>\n      <td>-0.09</td>\n      <td>14.11</td>\n      <td>0.34</td>\n      <td>0.000180</td>\n      <td>0.3</td>\n      <td>0.00889</td>\n      <td>DZ7</td>\n      <td>7200.0</td>\n      <td>16773089</td>\n    </tr>\n    <tr>\n      <th>1234</th>\n      <td>14.8</td>\n      <td>-0.10</td>\n      <td>14.70</td>\n      <td>0.55</td>\n      <td>0.000105</td>\n      <td>0.2</td>\n      <td>0.00887</td>\n      <td>DZ8</td>\n      <td>6300.0</td>\n      <td>16773089</td>\n    </tr>\n    <tr>\n      <th>1235</th>\n      <td>15.4</td>\n      <td>-0.22</td>\n      <td>15.18</td>\n      <td>0.74</td>\n      <td>0.000067</td>\n      <td>0.1</td>\n      <td>0.00898</td>\n      <td>DZ9</td>\n      <td>5600.0</td>\n      <td>16773089</td>\n    </tr>\n  </tbody>\n</table>\n</div>"
     },
     "metadata": {},
     "execution_count": 116
    }
   ],
   "source": [
    "star_data.head(50)"
   ]
  },
  {
   "cell_type": "code",
   "execution_count": 106,
   "metadata": {},
   "outputs": [
    {
     "output_type": "stream",
     "name": "stdout",
     "text": [
      "<class 'pandas.core.frame.DataFrame'>\nInt64Index: 1100 entries, 1 to 1235\nData columns (total 10 columns):\n #   Column                Non-Null Count  Dtype  \n---  ------                --------------  -----  \n 0   Abs MagMv             1100 non-null   float64\n 1   Bolo CorrBC(Temp)     1100 non-null   float64\n 2   Bolo MagMbol          1100 non-null   float64\n 3   Color IndexB-V        1100 non-null   float64\n 4   LuminosityLstar/Lsun  1100 non-null   float64\n 5   MassMstar/Msun        1100 non-null   float64\n 6   RadiusRstar/Rsun      1100 non-null   float64\n 7   StellarType           1100 non-null   object \n 8   TempK                 1100 non-null   float64\n 9   hex_color             1100 non-null   object \ndtypes: float64(8), object(2)\nmemory usage: 134.5+ KB\n"
     ]
    }
   ],
   "source": [
    "star_data.info()"
   ]
  },
  {
   "cell_type": "code",
   "execution_count": 10,
   "metadata": {},
   "outputs": [],
   "source": [
    "import pandas_profiling"
   ]
  },
  {
   "cell_type": "code",
   "execution_count": 25,
   "metadata": {},
   "outputs": [
    {
     "output_type": "stream",
     "name": "stderr",
     "text": [
      "Summarize dataset: 100%|██████████| 25/25 [00:15<00:00,  1.67it/s, Completed]\n",
      "Generate report structure: 100%|██████████| 1/1 [00:05<00:00,  5.25s/it]\n",
      "Render HTML: 100%|██████████| 1/1 [00:03<00:00,  3.12s/it]\n",
      "Export report to file: 100%|██████████| 1/1 [00:00<00:00, 59.52it/s]\n"
     ]
    }
   ],
   "source": [
    "profile = star_data.profile_report(title='EDA of star dataset using Pandas Profiling')\n",
    "# save the minified report\n",
    "profile.to_file(output_file=\"star.html\")"
   ]
  },
  {
   "cell_type": "code",
   "execution_count": 12,
   "metadata": {},
   "outputs": [],
   "source": [
    "# Set up x and y variables\n",
    "X = star_data[['Abs MagMv', 'Bolo CorrBC(Temp)', 'Bolo MagMbol', 'Color IndexB-V', 'LuminosityLstar/Lsun', 'MassMstar/Msun', 'RadiusRstar/Rsun', 'Star ColorRGB 0-255', 'TempK']]\n",
    "y = star_data['StellarType']"
   ]
  },
  {
   "cell_type": "code",
   "execution_count": 16,
   "metadata": {},
   "outputs": [],
   "source": [
    "# Make training and testing set (testing is 20% of the data)\n",
    "X_train, X_test, y_train, y_test = train_test_split(X, y, test_size = .2, random_state=14)"
   ]
  },
  {
   "cell_type": "code",
   "execution_count": 40,
   "metadata": {},
   "outputs": [
    {
     "output_type": "error",
     "ename": "ValueError",
     "evalue": "could not convert string to float: '255 239 225'",
     "traceback": [
      "\u001b[0;31m---------------------------------------------------------------------------\u001b[0m",
      "\u001b[0;31mValueError\u001b[0m                                Traceback (most recent call last)",
      "\u001b[0;32m<ipython-input-40-12ba7001d849>\u001b[0m in \u001b[0;36m<module>\u001b[0;34m\u001b[0m\n\u001b[1;32m      1\u001b[0m \u001b[0mlr\u001b[0m \u001b[0;34m=\u001b[0m \u001b[0mLogisticRegression\u001b[0m\u001b[0;34m(\u001b[0m\u001b[0;34m)\u001b[0m\u001b[0;34m\u001b[0m\u001b[0;34m\u001b[0m\u001b[0m\n\u001b[0;32m----> 2\u001b[0;31m \u001b[0mlr\u001b[0m\u001b[0;34m.\u001b[0m\u001b[0mfit\u001b[0m\u001b[0;34m(\u001b[0m\u001b[0mX\u001b[0m\u001b[0;34m,\u001b[0m\u001b[0my\u001b[0m\u001b[0;34m)\u001b[0m\u001b[0;34m\u001b[0m\u001b[0;34m\u001b[0m\u001b[0m\n\u001b[0m",
      "\u001b[0;32m/usr/local/lib/python3.7/site-packages/sklearn/linear_model/_logistic.py\u001b[0m in \u001b[0;36mfit\u001b[0;34m(self, X, y, sample_weight)\u001b[0m\n\u001b[1;32m   1525\u001b[0m \u001b[0;34m\u001b[0m\u001b[0m\n\u001b[1;32m   1526\u001b[0m         X, y = check_X_y(X, y, accept_sparse='csr', dtype=_dtype, order=\"C\",\n\u001b[0;32m-> 1527\u001b[0;31m                          accept_large_sparse=solver != 'liblinear')\n\u001b[0m\u001b[1;32m   1528\u001b[0m         \u001b[0mcheck_classification_targets\u001b[0m\u001b[0;34m(\u001b[0m\u001b[0my\u001b[0m\u001b[0;34m)\u001b[0m\u001b[0;34m\u001b[0m\u001b[0;34m\u001b[0m\u001b[0m\n\u001b[1;32m   1529\u001b[0m         \u001b[0mself\u001b[0m\u001b[0;34m.\u001b[0m\u001b[0mclasses_\u001b[0m \u001b[0;34m=\u001b[0m \u001b[0mnp\u001b[0m\u001b[0;34m.\u001b[0m\u001b[0munique\u001b[0m\u001b[0;34m(\u001b[0m\u001b[0my\u001b[0m\u001b[0;34m)\u001b[0m\u001b[0;34m\u001b[0m\u001b[0;34m\u001b[0m\u001b[0m\n",
      "\u001b[0;32m/usr/local/lib/python3.7/site-packages/sklearn/utils/validation.py\u001b[0m in \u001b[0;36mcheck_X_y\u001b[0;34m(X, y, accept_sparse, accept_large_sparse, dtype, order, copy, force_all_finite, ensure_2d, allow_nd, multi_output, ensure_min_samples, ensure_min_features, y_numeric, warn_on_dtype, estimator)\u001b[0m\n\u001b[1;32m    753\u001b[0m                     \u001b[0mensure_min_features\u001b[0m\u001b[0;34m=\u001b[0m\u001b[0mensure_min_features\u001b[0m\u001b[0;34m,\u001b[0m\u001b[0;34m\u001b[0m\u001b[0;34m\u001b[0m\u001b[0m\n\u001b[1;32m    754\u001b[0m                     \u001b[0mwarn_on_dtype\u001b[0m\u001b[0;34m=\u001b[0m\u001b[0mwarn_on_dtype\u001b[0m\u001b[0;34m,\u001b[0m\u001b[0;34m\u001b[0m\u001b[0;34m\u001b[0m\u001b[0m\n\u001b[0;32m--> 755\u001b[0;31m                     estimator=estimator)\n\u001b[0m\u001b[1;32m    756\u001b[0m     \u001b[0;32mif\u001b[0m \u001b[0mmulti_output\u001b[0m\u001b[0;34m:\u001b[0m\u001b[0;34m\u001b[0m\u001b[0;34m\u001b[0m\u001b[0m\n\u001b[1;32m    757\u001b[0m         y = check_array(y, 'csr', force_all_finite=True, ensure_2d=False,\n",
      "\u001b[0;32m/usr/local/lib/python3.7/site-packages/sklearn/utils/validation.py\u001b[0m in \u001b[0;36mcheck_array\u001b[0;34m(array, accept_sparse, accept_large_sparse, dtype, order, copy, force_all_finite, ensure_2d, allow_nd, ensure_min_samples, ensure_min_features, warn_on_dtype, estimator)\u001b[0m\n\u001b[1;32m    529\u001b[0m                     \u001b[0marray\u001b[0m \u001b[0;34m=\u001b[0m \u001b[0marray\u001b[0m\u001b[0;34m.\u001b[0m\u001b[0mastype\u001b[0m\u001b[0;34m(\u001b[0m\u001b[0mdtype\u001b[0m\u001b[0;34m,\u001b[0m \u001b[0mcasting\u001b[0m\u001b[0;34m=\u001b[0m\u001b[0;34m\"unsafe\"\u001b[0m\u001b[0;34m,\u001b[0m \u001b[0mcopy\u001b[0m\u001b[0;34m=\u001b[0m\u001b[0;32mFalse\u001b[0m\u001b[0;34m)\u001b[0m\u001b[0;34m\u001b[0m\u001b[0;34m\u001b[0m\u001b[0m\n\u001b[1;32m    530\u001b[0m                 \u001b[0;32melse\u001b[0m\u001b[0;34m:\u001b[0m\u001b[0;34m\u001b[0m\u001b[0;34m\u001b[0m\u001b[0m\n\u001b[0;32m--> 531\u001b[0;31m                     \u001b[0marray\u001b[0m \u001b[0;34m=\u001b[0m \u001b[0mnp\u001b[0m\u001b[0;34m.\u001b[0m\u001b[0masarray\u001b[0m\u001b[0;34m(\u001b[0m\u001b[0marray\u001b[0m\u001b[0;34m,\u001b[0m \u001b[0morder\u001b[0m\u001b[0;34m=\u001b[0m\u001b[0morder\u001b[0m\u001b[0;34m,\u001b[0m \u001b[0mdtype\u001b[0m\u001b[0;34m=\u001b[0m\u001b[0mdtype\u001b[0m\u001b[0;34m)\u001b[0m\u001b[0;34m\u001b[0m\u001b[0;34m\u001b[0m\u001b[0m\n\u001b[0m\u001b[1;32m    532\u001b[0m             \u001b[0;32mexcept\u001b[0m \u001b[0mComplexWarning\u001b[0m\u001b[0;34m:\u001b[0m\u001b[0;34m\u001b[0m\u001b[0;34m\u001b[0m\u001b[0m\n\u001b[1;32m    533\u001b[0m                 raise ValueError(\"Complex data not supported\\n\"\n",
      "\u001b[0;32m~/Library/Python/3.7/lib/python/site-packages/numpy/core/_asarray.py\u001b[0m in \u001b[0;36masarray\u001b[0;34m(a, dtype, order)\u001b[0m\n\u001b[1;32m     83\u001b[0m \u001b[0;34m\u001b[0m\u001b[0m\n\u001b[1;32m     84\u001b[0m     \"\"\"\n\u001b[0;32m---> 85\u001b[0;31m     \u001b[0;32mreturn\u001b[0m \u001b[0marray\u001b[0m\u001b[0;34m(\u001b[0m\u001b[0ma\u001b[0m\u001b[0;34m,\u001b[0m \u001b[0mdtype\u001b[0m\u001b[0;34m,\u001b[0m \u001b[0mcopy\u001b[0m\u001b[0;34m=\u001b[0m\u001b[0;32mFalse\u001b[0m\u001b[0;34m,\u001b[0m \u001b[0morder\u001b[0m\u001b[0;34m=\u001b[0m\u001b[0morder\u001b[0m\u001b[0;34m)\u001b[0m\u001b[0;34m\u001b[0m\u001b[0;34m\u001b[0m\u001b[0m\n\u001b[0m\u001b[1;32m     86\u001b[0m \u001b[0;34m\u001b[0m\u001b[0m\n\u001b[1;32m     87\u001b[0m \u001b[0;34m\u001b[0m\u001b[0m\n",
      "\u001b[0;31mValueError\u001b[0m: could not convert string to float: '255 239 225'"
     ]
    }
   ],
   "source": [
    "lr = LogisticRegression()\n",
    "lr.fit(X,y)"
   ]
  },
  {
   "source": [
    "TODO:   \n",
    "-Logistic regression   \n",
    "-Support vector machine  \n",
    "-Naive Bayes"
   ],
   "cell_type": "markdown",
   "metadata": {}
  },
  {
   "cell_type": "code",
   "execution_count": 26,
   "metadata": {},
   "outputs": [
    {
     "output_type": "stream",
     "name": "stdout",
     "text": [
      "225 332 999\n"
     ]
    }
   ],
   "source": [
    "test = \"225 332 999\"\n",
    "print(test)"
   ]
  },
  {
   "cell_type": "code",
   "execution_count": 34,
   "metadata": {},
   "outputs": [],
   "source": [
    "test = test.split()"
   ]
  },
  {
   "cell_type": "code",
   "execution_count": 35,
   "metadata": {},
   "outputs": [],
   "source": [
    "test_list = [int(i) for i in test] "
   ]
  },
  {
   "cell_type": "code",
   "execution_count": 36,
   "metadata": {},
   "outputs": [
    {
     "output_type": "execute_result",
     "data": {
      "text/plain": [
       "[225, 332, 999]"
      ]
     },
     "metadata": {},
     "execution_count": 36
    }
   ],
   "source": [
    "test_list"
   ]
  },
  {
   "cell_type": "code",
   "execution_count": 47,
   "metadata": {},
   "outputs": [
    {
     "output_type": "error",
     "ename": "SyntaxError",
     "evalue": "invalid syntax (<ipython-input-47-878a35994fab>, line 1)",
     "traceback": [
      "\u001b[0;36m  File \u001b[0;32m\"<ipython-input-47-878a35994fab>\"\u001b[0;36m, line \u001b[0;32m1\u001b[0m\n\u001b[0;31m    star_data['rgb_list'] = [[x.split() for x in star_data['Star ColorRGB 0-255']int(z) for z in star_data['Star ColorRGB 0-255']]]\u001b[0m\n\u001b[0m                                                                                   ^\u001b[0m\n\u001b[0;31mSyntaxError\u001b[0m\u001b[0;31m:\u001b[0m invalid syntax\n"
     ]
    }
   ],
   "source": [
    "star_data['rgb_list'] = [[x.split() for x in star_data['Star ColorRGB 0-255']int(z) for z in star_data['Star ColorRGB 0-255']]]"
   ]
  },
  {
   "cell_type": "code",
   "execution_count": 42,
   "metadata": {},
   "outputs": [],
   "source": [
    "def rgb_to_hex(rgb):\n",
    "    return '%02x%02x%02x' % rgb"
   ]
  },
  {
   "cell_type": "code",
   "execution_count": 44,
   "metadata": {},
   "outputs": [
    {
     "output_type": "error",
     "ename": "TypeError",
     "evalue": "%x format: an integer is required, not list",
     "traceback": [
      "\u001b[0;31m---------------------------------------------------------------------------\u001b[0m",
      "\u001b[0;31mTypeError\u001b[0m                                 Traceback (most recent call last)",
      "\u001b[0;32m<ipython-input-44-c454612fbb50>\u001b[0m in \u001b[0;36m<module>\u001b[0;34m\u001b[0m\n\u001b[0;32m----> 1\u001b[0;31m \u001b[0mstar_data\u001b[0m\u001b[0;34m[\u001b[0m\u001b[0;34m'hex_color'\u001b[0m\u001b[0;34m]\u001b[0m \u001b[0;34m=\u001b[0m \u001b[0;34m[\u001b[0m\u001b[0mrgb_to_hex\u001b[0m\u001b[0;34m(\u001b[0m\u001b[0mx\u001b[0m\u001b[0;34m)\u001b[0m \u001b[0;32mfor\u001b[0m \u001b[0mx\u001b[0m \u001b[0;32min\u001b[0m \u001b[0mstar_data\u001b[0m\u001b[0;34m[\u001b[0m\u001b[0;34m'rgb_list'\u001b[0m\u001b[0;34m]\u001b[0m\u001b[0;34m]\u001b[0m\u001b[0;34m\u001b[0m\u001b[0;34m\u001b[0m\u001b[0m\n\u001b[0m",
      "\u001b[0;32m<ipython-input-44-c454612fbb50>\u001b[0m in \u001b[0;36m<listcomp>\u001b[0;34m(.0)\u001b[0m\n\u001b[0;32m----> 1\u001b[0;31m \u001b[0mstar_data\u001b[0m\u001b[0;34m[\u001b[0m\u001b[0;34m'hex_color'\u001b[0m\u001b[0;34m]\u001b[0m \u001b[0;34m=\u001b[0m \u001b[0;34m[\u001b[0m\u001b[0mrgb_to_hex\u001b[0m\u001b[0;34m(\u001b[0m\u001b[0mx\u001b[0m\u001b[0;34m)\u001b[0m \u001b[0;32mfor\u001b[0m \u001b[0mx\u001b[0m \u001b[0;32min\u001b[0m \u001b[0mstar_data\u001b[0m\u001b[0;34m[\u001b[0m\u001b[0;34m'rgb_list'\u001b[0m\u001b[0;34m]\u001b[0m\u001b[0;34m]\u001b[0m\u001b[0;34m\u001b[0m\u001b[0;34m\u001b[0m\u001b[0m\n\u001b[0m",
      "\u001b[0;32m<ipython-input-42-c5c7e280d73e>\u001b[0m in \u001b[0;36mrgb_to_hex\u001b[0;34m(rgb)\u001b[0m\n\u001b[1;32m      1\u001b[0m \u001b[0;32mdef\u001b[0m \u001b[0mrgb_to_hex\u001b[0m\u001b[0;34m(\u001b[0m\u001b[0mrgb\u001b[0m\u001b[0;34m)\u001b[0m\u001b[0;34m:\u001b[0m\u001b[0;34m\u001b[0m\u001b[0;34m\u001b[0m\u001b[0m\n\u001b[0;32m----> 2\u001b[0;31m     \u001b[0;32mreturn\u001b[0m \u001b[0;34m'%02x%02x%02x'\u001b[0m \u001b[0;34m%\u001b[0m \u001b[0mrgb\u001b[0m\u001b[0;34m\u001b[0m\u001b[0;34m\u001b[0m\u001b[0m\n\u001b[0m",
      "\u001b[0;31mTypeError\u001b[0m: %x format: an integer is required, not list"
     ]
    }
   ],
   "source": [
    "star_data['hex_color'] = [rgb_to_hex(x) for x in star_data['rgb_list']]"
   ]
  },
  {
   "cell_type": "code",
   "execution_count": 45,
   "metadata": {},
   "outputs": [],
   "source": [
    "tester = (256,567,380"
   ]
  },
  {
   "cell_type": "code",
   "execution_count": 46,
   "metadata": {},
   "outputs": [
    {
     "output_type": "execute_result",
     "data": {
      "text/plain": [
       "tuple"
      ]
     },
     "metadata": {},
     "execution_count": 46
    }
   ],
   "source": [
    "type(tester)"
   ]
  },
  {
   "cell_type": "code",
   "execution_count": 50,
   "metadata": {},
   "outputs": [
    {
     "output_type": "execute_result",
     "data": {
      "text/plain": [
       "   Abs MagMv  Bolo CorrBC(Temp)  Bolo MagMbol  Color IndexB-V  \\\n",
       "1       -9.5              -4.58        -14.08           -0.35   \n",
       "2       -6.7              -4.58        -11.28           -0.35   \n",
       "3       -6.5              -4.58        -11.08           -0.35   \n",
       "4       -6.5              -4.58        -11.08           -0.35   \n",
       "5       -6.5              -4.58        -11.08           -0.35   \n",
       "\n",
       "   LuminosityLstar/Lsun  MassMstar/Msun  RadiusRstar/Rsun Star ColorRGB 0-255  \\\n",
       "1            34100000.0           160.0              80.2         144 166 255   \n",
       "2             2590000.0           150.0              22.1         144 166 255   \n",
       "3             2150000.0           140.0              20.2         144 166 255   \n",
       "4             2150000.0           130.0              20.2         144 166 255   \n",
       "5             2150000.0           120.0              20.2         144 166 255   \n",
       "\n",
       "  StellarType    TempK         rgb_list hex_color  \n",
       "1       O0Ia0  50000.0  [144, 166, 255]    ffefe1  \n",
       "2        O0Ia  50000.0  [144, 166, 255]    ffefe1  \n",
       "3        O0Ib  50000.0  [144, 166, 255]    ffefe1  \n",
       "4        O0II  50000.0  [144, 166, 255]    ffefe1  \n",
       "5       O0III  50000.0  [144, 166, 255]    ffefe1  "
      ],
      "text/html": "<div>\n<style scoped>\n    .dataframe tbody tr th:only-of-type {\n        vertical-align: middle;\n    }\n\n    .dataframe tbody tr th {\n        vertical-align: top;\n    }\n\n    .dataframe thead th {\n        text-align: right;\n    }\n</style>\n<table border=\"1\" class=\"dataframe\">\n  <thead>\n    <tr style=\"text-align: right;\">\n      <th></th>\n      <th>Abs MagMv</th>\n      <th>Bolo CorrBC(Temp)</th>\n      <th>Bolo MagMbol</th>\n      <th>Color IndexB-V</th>\n      <th>LuminosityLstar/Lsun</th>\n      <th>MassMstar/Msun</th>\n      <th>RadiusRstar/Rsun</th>\n      <th>Star ColorRGB 0-255</th>\n      <th>StellarType</th>\n      <th>TempK</th>\n      <th>rgb_list</th>\n      <th>hex_color</th>\n    </tr>\n  </thead>\n  <tbody>\n    <tr>\n      <th>1</th>\n      <td>-9.5</td>\n      <td>-4.58</td>\n      <td>-14.08</td>\n      <td>-0.35</td>\n      <td>34100000.0</td>\n      <td>160.0</td>\n      <td>80.2</td>\n      <td>144 166 255</td>\n      <td>O0Ia0</td>\n      <td>50000.0</td>\n      <td>[144, 166, 255]</td>\n      <td>ffefe1</td>\n    </tr>\n    <tr>\n      <th>2</th>\n      <td>-6.7</td>\n      <td>-4.58</td>\n      <td>-11.28</td>\n      <td>-0.35</td>\n      <td>2590000.0</td>\n      <td>150.0</td>\n      <td>22.1</td>\n      <td>144 166 255</td>\n      <td>O0Ia</td>\n      <td>50000.0</td>\n      <td>[144, 166, 255]</td>\n      <td>ffefe1</td>\n    </tr>\n    <tr>\n      <th>3</th>\n      <td>-6.5</td>\n      <td>-4.58</td>\n      <td>-11.08</td>\n      <td>-0.35</td>\n      <td>2150000.0</td>\n      <td>140.0</td>\n      <td>20.2</td>\n      <td>144 166 255</td>\n      <td>O0Ib</td>\n      <td>50000.0</td>\n      <td>[144, 166, 255]</td>\n      <td>ffefe1</td>\n    </tr>\n    <tr>\n      <th>4</th>\n      <td>-6.5</td>\n      <td>-4.58</td>\n      <td>-11.08</td>\n      <td>-0.35</td>\n      <td>2150000.0</td>\n      <td>130.0</td>\n      <td>20.2</td>\n      <td>144 166 255</td>\n      <td>O0II</td>\n      <td>50000.0</td>\n      <td>[144, 166, 255]</td>\n      <td>ffefe1</td>\n    </tr>\n    <tr>\n      <th>5</th>\n      <td>-6.5</td>\n      <td>-4.58</td>\n      <td>-11.08</td>\n      <td>-0.35</td>\n      <td>2150000.0</td>\n      <td>120.0</td>\n      <td>20.2</td>\n      <td>144 166 255</td>\n      <td>O0III</td>\n      <td>50000.0</td>\n      <td>[144, 166, 255]</td>\n      <td>ffefe1</td>\n    </tr>\n  </tbody>\n</table>\n</div>"
     },
     "metadata": {},
     "execution_count": 50
    }
   ],
   "source": [
    "star_data.head()"
   ]
  },
  {
   "cell_type": "code",
   "execution_count": null,
   "metadata": {},
   "outputs": [],
   "source": []
  }
 ]
}