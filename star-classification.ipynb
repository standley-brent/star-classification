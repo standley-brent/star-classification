{
 "metadata": {
  "language_info": {
   "codemirror_mode": {
    "name": "ipython",
    "version": 3
   },
   "file_extension": ".py",
   "mimetype": "text/x-python",
   "name": "python",
   "nbconvert_exporter": "python",
   "pygments_lexer": "ipython3",
   "version": "3.7.5-final"
  },
  "orig_nbformat": 2,
  "kernelspec": {
   "name": "9b2c2bea-78c9-4395-bff6-1bc9888f2370",
   "display_name": "'Python Interactive'"
  }
 },
 "nbformat": 4,
 "nbformat_minor": 2,
 "cells": [
  {
   "source": [
    "# Introduction:"
   ],
   "cell_type": "markdown",
   "metadata": {}
  },
  {
   "source": [
    "My research question is to see how accurately a machine learning model can classify the type of a star based on attributes of the star such as temperature and color. This is interesting because there are more stars visible to our eyes than we can ever hope to count. A model that can accurately classify stars would greatly help our efficiency as we try to document the cosmos."
   ],
   "cell_type": "markdown",
   "metadata": {}
  },
  {
   "cell_type": "code",
   "execution_count": 380,
   "metadata": {},
   "outputs": [],
   "source": [
    "import pandas as pd \n",
    "import numpy as np \n",
    "import requests\n",
    "import matplotlib as plt \n",
    "import seaborn as sns \n",
    "import pandas_profiling\n",
    "from sklearn.model_selection import train_test_split\n",
    "from sklearn.linear_model import LogisticRegression\n",
    "from sklearn.metrics import classification_report, confusion_matrix\n",
    "from sklearn.metrics import mean_squared_error\n",
    "from sklearn.neighbors import KNeighborsClassifier\n",
    "from sklearn.tree import DecisionTreeClassifier\n",
    "from sklearn.ensemble import RandomForestClassifier"
   ]
  },
  {
   "source": [
    "# Data:"
   ],
   "cell_type": "markdown",
   "metadata": {}
  },
  {
   "source": [
    "- My data is found at the URL below. The data is a table of approximately 1200 rows, with different features of stars including temperature, mass, radius, and color.  \n",
    "- To collect the data, I am reading the html and pulling out each row of the table, and appending it to a dataframe.  \n",
    "- I then clean the data, specifically turning the RGB color into a decimal.\n",
    "- My code also generates an html file containing the exploratory data analysis."
   ],
   "cell_type": "markdown",
   "metadata": {}
  },
  {
   "cell_type": "code",
   "execution_count": 328,
   "metadata": {},
   "outputs": [],
   "source": [
    "url = \"http://www.isthe.com/chongo/tech/astro/HR-temp-mass-table-byhrclass.html#below\""
   ]
  },
  {
   "cell_type": "code",
   "execution_count": 387,
   "metadata": {},
   "outputs": [],
   "source": [
    "# Read the star data in from the web\n",
    "star_data = pd.DataFrame()\n",
    "html = pd.read_html(url)\n",
    "for i in html:\n",
    "    star_data = pd.concat([star_data, i])"
   ]
  },
  {
   "cell_type": "code",
   "execution_count": 388,
   "metadata": {},
   "outputs": [
    {
     "output_type": "execute_result",
     "data": {
      "text/plain": [
       "1242"
      ]
     },
     "metadata": {},
     "execution_count": 388
    }
   ],
   "source": [
    "len(star_data)"
   ]
  },
  {
   "cell_type": "code",
   "execution_count": 389,
   "metadata": {},
   "outputs": [],
   "source": [
    "# Drop unneededd columns\n",
    "star_data.drop([0, 1, 2], axis=1, inplace=True)"
   ]
  },
  {
   "cell_type": "code",
   "execution_count": 390,
   "metadata": {},
   "outputs": [],
   "source": [
    "# Remove all empty values\n",
    "star_data.dropna(axis=0, inplace=True)"
   ]
  },
  {
   "cell_type": "code",
   "execution_count": 391,
   "metadata": {},
   "outputs": [
    {
     "output_type": "execute_result",
     "data": {
      "text/plain": [
       "1100"
      ]
     },
     "metadata": {},
     "execution_count": 391
    }
   ],
   "source": [
    "len(star_data)"
   ]
  },
  {
   "cell_type": "code",
   "execution_count": 392,
   "metadata": {},
   "outputs": [],
   "source": [
    "star_data['color_decimal'] = \"\""
   ]
  },
  {
   "cell_type": "code",
   "execution_count": 393,
   "metadata": {},
   "outputs": [],
   "source": [
    "# Function that takes RGB values as a string, turning them into a decimal representation of the color\n",
    "def rgb_cleaner(rgb_text):\n",
    "    temp_split = rgb_text.split()\n",
    "    red = int(temp_split[0])\n",
    "    green = int(temp_split[1])\n",
    "    blue = int(temp_split[2])\n",
    "    color_hex = '%02x%02x%02x' % (red, green, blue)\n",
    "    color_finished = int(color_hex, 16)\n",
    "    return color_finished\n"
   ]
  },
  {
   "cell_type": "code",
   "execution_count": 394,
   "metadata": {},
   "outputs": [],
   "source": [
    "# Calling the RGB conversion function on each color listed in the data\n",
    "star_data['color_decimal'] = [rgb_cleaner(i) for i in star_data['Star ColorRGB 0-255']]"
   ]
  },
  {
   "cell_type": "code",
   "execution_count": 395,
   "metadata": {},
   "outputs": [],
   "source": [
    "# Get rid of the old color data\n",
    "star_data.drop(['Star ColorRGB 0-255'], axis=1, inplace=True)"
   ]
  },
  {
   "cell_type": "code",
   "execution_count": 396,
   "metadata": {},
   "outputs": [],
   "source": [
    "#The first letter of the star type is the star family. We will use this as our target\n",
    "star_data['star_family'] = [i[0] for i in star_data['StellarType']]"
   ]
  },
  {
   "cell_type": "code",
   "execution_count": 397,
   "metadata": {},
   "outputs": [
    {
     "output_type": "execute_result",
     "data": {
      "text/plain": [
       "   Abs MagMv  Bolo CorrBC(Temp)  Bolo MagMbol  Color IndexB-V  \\\n",
       "1       -9.5              -4.58        -14.08           -0.35   \n",
       "2       -6.7              -4.58        -11.28           -0.35   \n",
       "3       -6.5              -4.58        -11.08           -0.35   \n",
       "4       -6.5              -4.58        -11.08           -0.35   \n",
       "5       -6.5              -4.58        -11.08           -0.35   \n",
       "\n",
       "   LuminosityLstar/Lsun  MassMstar/Msun  RadiusRstar/Rsun StellarType  \\\n",
       "1            34100000.0           160.0              80.2       O0Ia0   \n",
       "2             2590000.0           150.0              22.1        O0Ia   \n",
       "3             2150000.0           140.0              20.2        O0Ib   \n",
       "4             2150000.0           130.0              20.2        O0II   \n",
       "5             2150000.0           120.0              20.2       O0III   \n",
       "\n",
       "     TempK  color_decimal star_family  \n",
       "1  50000.0        9479935           O  \n",
       "2  50000.0        9479935           O  \n",
       "3  50000.0        9479935           O  \n",
       "4  50000.0        9479935           O  \n",
       "5  50000.0        9479935           O  "
      ],
      "text/html": "<div>\n<style scoped>\n    .dataframe tbody tr th:only-of-type {\n        vertical-align: middle;\n    }\n\n    .dataframe tbody tr th {\n        vertical-align: top;\n    }\n\n    .dataframe thead th {\n        text-align: right;\n    }\n</style>\n<table border=\"1\" class=\"dataframe\">\n  <thead>\n    <tr style=\"text-align: right;\">\n      <th></th>\n      <th>Abs MagMv</th>\n      <th>Bolo CorrBC(Temp)</th>\n      <th>Bolo MagMbol</th>\n      <th>Color IndexB-V</th>\n      <th>LuminosityLstar/Lsun</th>\n      <th>MassMstar/Msun</th>\n      <th>RadiusRstar/Rsun</th>\n      <th>StellarType</th>\n      <th>TempK</th>\n      <th>color_decimal</th>\n      <th>star_family</th>\n    </tr>\n  </thead>\n  <tbody>\n    <tr>\n      <th>1</th>\n      <td>-9.5</td>\n      <td>-4.58</td>\n      <td>-14.08</td>\n      <td>-0.35</td>\n      <td>34100000.0</td>\n      <td>160.0</td>\n      <td>80.2</td>\n      <td>O0Ia0</td>\n      <td>50000.0</td>\n      <td>9479935</td>\n      <td>O</td>\n    </tr>\n    <tr>\n      <th>2</th>\n      <td>-6.7</td>\n      <td>-4.58</td>\n      <td>-11.28</td>\n      <td>-0.35</td>\n      <td>2590000.0</td>\n      <td>150.0</td>\n      <td>22.1</td>\n      <td>O0Ia</td>\n      <td>50000.0</td>\n      <td>9479935</td>\n      <td>O</td>\n    </tr>\n    <tr>\n      <th>3</th>\n      <td>-6.5</td>\n      <td>-4.58</td>\n      <td>-11.08</td>\n      <td>-0.35</td>\n      <td>2150000.0</td>\n      <td>140.0</td>\n      <td>20.2</td>\n      <td>O0Ib</td>\n      <td>50000.0</td>\n      <td>9479935</td>\n      <td>O</td>\n    </tr>\n    <tr>\n      <th>4</th>\n      <td>-6.5</td>\n      <td>-4.58</td>\n      <td>-11.08</td>\n      <td>-0.35</td>\n      <td>2150000.0</td>\n      <td>130.0</td>\n      <td>20.2</td>\n      <td>O0II</td>\n      <td>50000.0</td>\n      <td>9479935</td>\n      <td>O</td>\n    </tr>\n    <tr>\n      <th>5</th>\n      <td>-6.5</td>\n      <td>-4.58</td>\n      <td>-11.08</td>\n      <td>-0.35</td>\n      <td>2150000.0</td>\n      <td>120.0</td>\n      <td>20.2</td>\n      <td>O0III</td>\n      <td>50000.0</td>\n      <td>9479935</td>\n      <td>O</td>\n    </tr>\n  </tbody>\n</table>\n</div>"
     },
     "metadata": {},
     "execution_count": 397
    }
   ],
   "source": [
    "star_data.head()"
   ]
  },
  {
   "cell_type": "code",
   "execution_count": 398,
   "metadata": {},
   "outputs": [
    {
     "output_type": "stream",
     "name": "stdout",
     "text": [
      "<class 'pandas.core.frame.DataFrame'>\nInt64Index: 1100 entries, 1 to 1235\nData columns (total 11 columns):\n #   Column                Non-Null Count  Dtype  \n---  ------                --------------  -----  \n 0   Abs MagMv             1100 non-null   float64\n 1   Bolo CorrBC(Temp)     1100 non-null   float64\n 2   Bolo MagMbol          1100 non-null   float64\n 3   Color IndexB-V        1100 non-null   float64\n 4   LuminosityLstar/Lsun  1100 non-null   float64\n 5   MassMstar/Msun        1100 non-null   float64\n 6   RadiusRstar/Rsun      1100 non-null   float64\n 7   StellarType           1100 non-null   object \n 8   TempK                 1100 non-null   float64\n 9   color_decimal         1100 non-null   int64  \n 10  star_family           1100 non-null   object \ndtypes: float64(8), int64(1), object(2)\nmemory usage: 103.1+ KB\n"
     ]
    }
   ],
   "source": [
    "# Double checking the datatypes of each column before we start running our models\n",
    "star_data.info()"
   ]
  },
  {
   "cell_type": "code",
   "execution_count": 399,
   "metadata": {},
   "outputs": [],
   "source": [
    "import pandas_profiling"
   ]
  },
  {
   "cell_type": "code",
   "execution_count": 400,
   "metadata": {},
   "outputs": [
    {
     "output_type": "stream",
     "name": "stderr",
     "text": [
      "Summarize dataset: 100%|██████████| 26/26 [00:22<00:00,  1.15it/s, Completed]\n",
      "Generate report structure: 100%|██████████| 1/1 [00:07<00:00,  7.19s/it]\n",
      "Render HTML: 100%|██████████| 1/1 [00:04<00:00,  4.29s/it]\n",
      "Export report to file: 100%|██████████| 1/1 [00:00<00:00, 69.18it/s]\n"
     ]
    }
   ],
   "source": [
    "# This python library generates an html document showing the important features of the data\n",
    "profile = star_data.profile_report(title='EDA of star dataset using Pandas Profiling')\n",
    "# save the report\n",
    "profile.to_file(output_file=\"star.html\")"
   ]
  },
  {
   "cell_type": "code",
   "execution_count": 401,
   "metadata": {},
   "outputs": [],
   "source": [
    "# Set up x and y variables\n",
    "X = star_data[['Abs MagMv', 'Bolo CorrBC(Temp)', 'Bolo MagMbol', 'Color IndexB-V', 'LuminosityLstar/Lsun', 'MassMstar/Msun', 'RadiusRstar/Rsun', 'TempK', 'color_decimal']]\n",
    "y = star_data['star_family']"
   ]
  },
  {
   "cell_type": "code",
   "execution_count": 402,
   "metadata": {},
   "outputs": [],
   "source": [
    "# Make training and testing set (testing is 20% of the data)\n",
    "X_train, X_test, y_train, y_test = train_test_split(X, y, test_size = .2, random_state=14)"
   ]
  },
  {
   "source": [
    "Now it's time to run some models on the data and see how they do:"
   ],
   "cell_type": "markdown",
   "metadata": {}
  },
  {
   "source": [
    "## Logistic Regression"
   ],
   "cell_type": "markdown",
   "metadata": {}
  },
  {
   "cell_type": "code",
   "execution_count": 403,
   "metadata": {},
   "outputs": [
    {
     "output_type": "execute_result",
     "data": {
      "text/plain": [
       "LogisticRegression(C=1.0, class_weight=None, dual=False, fit_intercept=True,\n",
       "                   intercept_scaling=1, l1_ratio=None, max_iter=100,\n",
       "                   multi_class='auto', n_jobs=None, penalty='l2',\n",
       "                   random_state=None, solver='lbfgs', tol=0.0001, verbose=0,\n",
       "                   warm_start=False)"
      ]
     },
     "metadata": {},
     "execution_count": 403
    }
   ],
   "source": [
    "lr = LogisticRegression()\n",
    "lr.fit(X_train, y_train)"
   ]
  },
  {
   "cell_type": "code",
   "execution_count": 404,
   "metadata": {},
   "outputs": [],
   "source": [
    "yhat_train = lr.predict(X_train)\n",
    "y_pred = lr.predict(X_test)"
   ]
  },
  {
   "cell_type": "code",
   "execution_count": 405,
   "metadata": {},
   "outputs": [
    {
     "output_type": "stream",
     "name": "stdout",
     "text": [
      "Accuracy = 0.22727\nPrecision = 0.12487\nRecall = 0.22727\nF1 score = 0.13313\n"
     ]
    }
   ],
   "source": [
    "print('Accuracy = {:.5f}'.format(accuracy_score(y_test, y_pred)))\n",
    "print('Precision = {:.5f}'.format(precision_score(y_test, y_pred, average='weighted')))\n",
    "print('Recall = {:.5f}'.format(recall_score(y_test, y_pred, average='weighted')))\n",
    "print('F1 score = {:.5f}'.format(f1_score(y_test, y_pred, average='weighted')))"
   ]
  },
  {
   "source": [
    "## K Nearest Neighbors"
   ],
   "cell_type": "markdown",
   "metadata": {}
  },
  {
   "cell_type": "code",
   "execution_count": 406,
   "metadata": {},
   "outputs": [
    {
     "output_type": "execute_result",
     "data": {
      "text/plain": [
       "KNeighborsClassifier(algorithm='auto', leaf_size=30, metric='minkowski',\n",
       "                     metric_params=None, n_jobs=None, n_neighbors=3, p=2,\n",
       "                     weights='uniform')"
      ]
     },
     "metadata": {},
     "execution_count": 406
    }
   ],
   "source": [
    "knn = KNeighborsClassifier(n_neighbors=3)\n",
    "knn.fit(X_train, y_train)"
   ]
  },
  {
   "cell_type": "code",
   "execution_count": 407,
   "metadata": {},
   "outputs": [],
   "source": [
    "knn_yhat_train = knn.predict(X_train)\n",
    "knn_y_pred = knn.predict(X_test)"
   ]
  },
  {
   "cell_type": "code",
   "execution_count": 408,
   "metadata": {},
   "outputs": [
    {
     "output_type": "stream",
     "name": "stdout",
     "text": [
      "Accuracy = 0.46364\nPrecision = 0.42628\nRecall = 0.46364\nF1 score = 0.43861\n"
     ]
    }
   ],
   "source": [
    "print('Accuracy = {:.5f}'.format(accuracy_score(y_test, knn_y_pred)))\n",
    "print('Precision = {:.5f}'.format(precision_score(y_test, knn_y_pred, average='weighted')))\n",
    "print('Recall = {:.5f}'.format(recall_score(y_test, knn_y_pred, average='weighted')))\n",
    "print('F1 score = {:.5f}'.format(f1_score(y_test, knn_y_pred, average='weighted')))"
   ]
  },
  {
   "source": [
    "## Decision Tree"
   ],
   "cell_type": "markdown",
   "metadata": {}
  },
  {
   "cell_type": "code",
   "execution_count": 409,
   "metadata": {},
   "outputs": [
    {
     "output_type": "execute_result",
     "data": {
      "text/plain": [
       "DecisionTreeClassifier(ccp_alpha=0.0, class_weight=None, criterion='gini',\n",
       "                       max_depth=None, max_features=None, max_leaf_nodes=None,\n",
       "                       min_impurity_decrease=0.0, min_impurity_split=None,\n",
       "                       min_samples_leaf=3, min_samples_split=2,\n",
       "                       min_weight_fraction_leaf=0.0, presort='deprecated',\n",
       "                       random_state=None, splitter='best')"
      ]
     },
     "metadata": {},
     "execution_count": 409
    }
   ],
   "source": [
    "dt = DecisionTreeClassifier(min_samples_leaf=3)\n",
    "dt.fit(X_train, y_train)"
   ]
  },
  {
   "cell_type": "code",
   "execution_count": 410,
   "metadata": {},
   "outputs": [],
   "source": [
    "dt_yhat_train = dt.predict(X_train)\n",
    "dt_y_pred = dt.predict(X_test)"
   ]
  },
  {
   "cell_type": "code",
   "execution_count": 411,
   "metadata": {},
   "outputs": [
    {
     "output_type": "stream",
     "name": "stdout",
     "text": [
      "Accuracy = 0.50909\nPrecision = 0.51527\nRecall = 0.50909\nF1 score = 0.51079\n"
     ]
    }
   ],
   "source": [
    "print('Accuracy = {:.5f}'.format(accuracy_score(y_test, dt_y_pred)))\n",
    "print('Precision = {:.5f}'.format(precision_score(y_test, dt_y_pred, average='weighted')))\n",
    "print('Recall = {:.5f}'.format(recall_score(y_test, dt_y_pred, average='weighted')))\n",
    "print('F1 score = {:.5f}'.format(f1_score(y_test, dt_y_pred, average='weighted')))"
   ]
  },
  {
   "source": [
    "## Random Forest"
   ],
   "cell_type": "markdown",
   "metadata": {}
  },
  {
   "cell_type": "code",
   "execution_count": 412,
   "metadata": {},
   "outputs": [
    {
     "output_type": "execute_result",
     "data": {
      "text/plain": [
       "RandomForestClassifier(bootstrap=True, ccp_alpha=0.0, class_weight=None,\n",
       "                       criterion='gini', max_depth=None, max_features='auto',\n",
       "                       max_leaf_nodes=None, max_samples=None,\n",
       "                       min_impurity_decrease=0.0, min_impurity_split=None,\n",
       "                       min_samples_leaf=1, min_samples_split=2,\n",
       "                       min_weight_fraction_leaf=0.0, n_estimators=100,\n",
       "                       n_jobs=None, oob_score=False, random_state=None,\n",
       "                       verbose=0, warm_start=False)"
      ]
     },
     "metadata": {},
     "execution_count": 412
    }
   ],
   "source": [
    "rf = RandomForestClassifier()\n",
    "rf.fit(X_test, y_test)"
   ]
  },
  {
   "cell_type": "code",
   "execution_count": 413,
   "metadata": {},
   "outputs": [],
   "source": [
    "rf_yhat_train = rf.predict(X_train)\n",
    "rf_y_pred = rf.predict(X_test)"
   ]
  },
  {
   "cell_type": "code",
   "execution_count": 414,
   "metadata": {},
   "outputs": [
    {
     "output_type": "stream",
     "name": "stdout",
     "text": [
      "Accuracy = 0.91818\nPrecision = 0.92038\nRecall = 0.91818\nF1 score = 0.91644\n"
     ]
    }
   ],
   "source": [
    "print('Accuracy = {:.5f}'.format(accuracy_score(y_test, rf_y_pred)))\n",
    "print('Precision = {:.5f}'.format(precision_score(y_test, rf_y_pred, average='weighted')))\n",
    "print('Recall = {:.5f}'.format(recall_score(y_test, rf_y_pred, average='weighted')))\n",
    "print('F1 score = {:.5f}'.format(f1_score(y_test, rf_y_pred, average='weighted')))"
   ]
  },
  {
   "source": [
    "# Methods & Results"
   ],
   "cell_type": "markdown",
   "metadata": {}
  },
  {
   "source": [
    "- I chose to use 4 different models on my data: Logistic regression, k nearest neighbors, decision trees, and random forest.  \n",
    "- Out of those 4, random forest performed the best.  \n",
    "- I think the strength of random forest is that it is an ensemble method. This means that there isn't a single process that runs on the data, but rather several layers of processes. Doing so provides a more accurate result.  \n",
    "- The limitation of these models is that they all expected numeric features. If I were to use dummy variables I could try a larger variety of models and compare them to each other.  \n",
    "- I ended up using a lot of the default values for each model. I tried changing a few things like the alpha level or the type of average that was being used but I found that the default values were working pretty well, especially for random forest. With more time, my prediction is that each of these models could be tuned to perform much better.  \n",
    "- To evaluate my models I used 4 different metrics: accuracy, precision, recall, and the F1 score.  "
   ],
   "cell_type": "markdown",
   "metadata": {}
  },
  {
   "source": [
    "# Research Question Answer:"
   ],
   "cell_type": "markdown",
   "metadata": {}
  },
  {
   "source": [
    "I conclude that machine learning models can be trained to classify types of stars, thereby automating a very laborious and near-infinite process."
   ],
   "cell_type": "markdown",
   "metadata": {}
  }
 ]
}